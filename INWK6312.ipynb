{
  "nbformat": 4,
  "nbformat_minor": 0,
  "metadata": {
    "colab": {
      "provenance": [],
      "authorship_tag": "ABX9TyOSqHLtkwyzUb6vooZq1yWa",
      "include_colab_link": true
    },
    "kernelspec": {
      "name": "python3",
      "display_name": "Python 3"
    },
    "language_info": {
      "name": "python"
    }
  },
  "cells": [
    {
      "cell_type": "markdown",
      "metadata": {
        "id": "view-in-github",
        "colab_type": "text"
      },
      "source": [
        "<a href=\"https://colab.research.google.com/github/Ishmeet25/first-contribution/blob/main/INWK6312.ipynb\" target=\"_parent\"><img src=\"https://colab.research.google.com/assets/colab-badge.svg\" alt=\"Open In Colab\"/></a>"
      ]
    },
    {
      "cell_type": "code",
      "execution_count": 7,
      "metadata": {
        "colab": {
          "base_uri": "https://localhost:8080/"
        },
        "id": "hG_yQZH5Iqge",
        "outputId": "07c76014-c3dc-4a55-822e-a8067f10d9f6"
      },
      "outputs": [
        {
          "output_type": "stream",
          "name": "stdout",
          "text": [
            "The first sentence. The second sentence. The last sentence.\n",
            "Mercury,Venus,Earth, Mars,Jupiter,Saturn, Uranus,Neptune, My favourite Pythons:\\n *Idle\\n *Cleese \\n *Sumatran short-tailed\n"
          ]
        }
      ],
      "source": [
        "def sentences():\n",
        "  print('The first sentence', end='. ')\n",
        "  print('The second sentence', end='. ')\n",
        "  print('The last sentence.')\n",
        "def planets():\n",
        "  print('Mercury', 'Venus', 'Earth', sep=',', end=', ')\n",
        "  print('Mars', 'Jupiter', 'Saturn', sep=',', end=', ')\n",
        "  print('Uranus', 'Neptune', sep=',', end=', ')\n",
        "def bullets():\n",
        "  print('My favourite Pythons:', end='\\\\n *')\n",
        "  print('Idle', end='\\\\n *')\n",
        "  print('Cleese ', end='\\\\n *')\n",
        "  print('Sumatran short-tailed')\n",
        "\n",
        "sentences()\n",
        "planets()\n",
        "bullets()\n"
      ]
    }
  ]
}